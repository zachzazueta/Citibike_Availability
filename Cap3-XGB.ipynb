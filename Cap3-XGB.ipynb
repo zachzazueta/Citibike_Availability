{
 "cells": [
  {
   "cell_type": "markdown",
   "metadata": {},
   "source": [
    "## XGBoost for Classification\n",
    "\n",
    "I will now use XGBoost to solve my station availability status classification problem."
   ]
  },
  {
   "cell_type": "code",
   "execution_count": 1,
   "metadata": {},
   "outputs": [],
   "source": [
    "import pandas as pd\n",
    "import numpy as np\n",
    "import requests\n",
    "import datetime\n",
    "import matplotlib.pyplot as plt\n",
    "%matplotlib inline\n",
    "\n",
    "import seaborn as sns\n",
    "import itertools\n",
    "\n",
    "import xgboost as xgb\n",
    "from xgboost import XGBClassifier\n",
    "from sklearn.metrics import mean_squared_error as mse\n",
    "from sklearn.metrics import accuracy_score, confusion_matrix\n",
    "from sklearn.model_selection import train_test_split, GridSearchCV, cross_val_score\n",
    "from sklearn.pipeline import Pipeline, make_pipeline\n",
    "\n",
    "import warnings\n",
    "warnings.filterwarnings(\"ignore\")"
   ]
  },
  {
   "cell_type": "code",
   "execution_count": 2,
   "metadata": {},
   "outputs": [
    {
     "data": {
      "text/html": [
       "<div>\n",
       "<style scoped>\n",
       "    .dataframe tbody tr th:only-of-type {\n",
       "        vertical-align: middle;\n",
       "    }\n",
       "\n",
       "    .dataframe tbody tr th {\n",
       "        vertical-align: top;\n",
       "    }\n",
       "\n",
       "    .dataframe thead th {\n",
       "        text-align: right;\n",
       "    }\n",
       "</style>\n",
       "<table border=\"1\" class=\"dataframe\">\n",
       "  <thead>\n",
       "    <tr style=\"text-align: right;\">\n",
       "      <th></th>\n",
       "      <th>status</th>\n",
       "      <th>tempF</th>\n",
       "      <th>neighborhood_Battery Park</th>\n",
       "      <th>neighborhood_Bedford Stuyvesant</th>\n",
       "      <th>neighborhood_Boerum Hill</th>\n",
       "      <th>neighborhood_Brooklyn Heights</th>\n",
       "      <th>neighborhood_Bushwick</th>\n",
       "      <th>neighborhood_Carnegie Hill</th>\n",
       "      <th>neighborhood_Carroll Gardens</th>\n",
       "      <th>neighborhood_Central Park</th>\n",
       "      <th>...</th>\n",
       "      <th>hour_18</th>\n",
       "      <th>hour_19</th>\n",
       "      <th>hour_20</th>\n",
       "      <th>hour_21</th>\n",
       "      <th>hour_22</th>\n",
       "      <th>hour_23</th>\n",
       "      <th>stat_size_Large</th>\n",
       "      <th>stat_size_Medium</th>\n",
       "      <th>stat_size_Small</th>\n",
       "      <th>ct_revised</th>\n",
       "    </tr>\n",
       "  </thead>\n",
       "  <tbody>\n",
       "    <tr>\n",
       "      <td>0</td>\n",
       "      <td>High</td>\n",
       "      <td>62.6</td>\n",
       "      <td>0</td>\n",
       "      <td>0</td>\n",
       "      <td>0</td>\n",
       "      <td>0</td>\n",
       "      <td>0</td>\n",
       "      <td>0</td>\n",
       "      <td>0</td>\n",
       "      <td>0</td>\n",
       "      <td>...</td>\n",
       "      <td>0</td>\n",
       "      <td>0</td>\n",
       "      <td>0</td>\n",
       "      <td>0</td>\n",
       "      <td>0</td>\n",
       "      <td>0</td>\n",
       "      <td>0</td>\n",
       "      <td>0</td>\n",
       "      <td>0</td>\n",
       "      <td>29</td>\n",
       "    </tr>\n",
       "    <tr>\n",
       "      <td>1</td>\n",
       "      <td>High</td>\n",
       "      <td>62.6</td>\n",
       "      <td>0</td>\n",
       "      <td>0</td>\n",
       "      <td>0</td>\n",
       "      <td>0</td>\n",
       "      <td>0</td>\n",
       "      <td>0</td>\n",
       "      <td>0</td>\n",
       "      <td>0</td>\n",
       "      <td>...</td>\n",
       "      <td>0</td>\n",
       "      <td>0</td>\n",
       "      <td>0</td>\n",
       "      <td>0</td>\n",
       "      <td>0</td>\n",
       "      <td>0</td>\n",
       "      <td>1</td>\n",
       "      <td>0</td>\n",
       "      <td>0</td>\n",
       "      <td>16</td>\n",
       "    </tr>\n",
       "    <tr>\n",
       "      <td>2</td>\n",
       "      <td>High</td>\n",
       "      <td>69.8</td>\n",
       "      <td>0</td>\n",
       "      <td>0</td>\n",
       "      <td>0</td>\n",
       "      <td>0</td>\n",
       "      <td>0</td>\n",
       "      <td>0</td>\n",
       "      <td>0</td>\n",
       "      <td>0</td>\n",
       "      <td>...</td>\n",
       "      <td>0</td>\n",
       "      <td>0</td>\n",
       "      <td>0</td>\n",
       "      <td>1</td>\n",
       "      <td>0</td>\n",
       "      <td>0</td>\n",
       "      <td>1</td>\n",
       "      <td>0</td>\n",
       "      <td>0</td>\n",
       "      <td>22</td>\n",
       "    </tr>\n",
       "    <tr>\n",
       "      <td>3</td>\n",
       "      <td>High</td>\n",
       "      <td>62.6</td>\n",
       "      <td>0</td>\n",
       "      <td>0</td>\n",
       "      <td>0</td>\n",
       "      <td>0</td>\n",
       "      <td>0</td>\n",
       "      <td>1</td>\n",
       "      <td>0</td>\n",
       "      <td>0</td>\n",
       "      <td>...</td>\n",
       "      <td>0</td>\n",
       "      <td>0</td>\n",
       "      <td>0</td>\n",
       "      <td>0</td>\n",
       "      <td>0</td>\n",
       "      <td>0</td>\n",
       "      <td>1</td>\n",
       "      <td>0</td>\n",
       "      <td>0</td>\n",
       "      <td>30</td>\n",
       "    </tr>\n",
       "    <tr>\n",
       "      <td>4</td>\n",
       "      <td>High</td>\n",
       "      <td>53.6</td>\n",
       "      <td>1</td>\n",
       "      <td>0</td>\n",
       "      <td>0</td>\n",
       "      <td>0</td>\n",
       "      <td>0</td>\n",
       "      <td>0</td>\n",
       "      <td>0</td>\n",
       "      <td>0</td>\n",
       "      <td>...</td>\n",
       "      <td>0</td>\n",
       "      <td>0</td>\n",
       "      <td>0</td>\n",
       "      <td>0</td>\n",
       "      <td>0</td>\n",
       "      <td>0</td>\n",
       "      <td>1</td>\n",
       "      <td>0</td>\n",
       "      <td>0</td>\n",
       "      <td>30</td>\n",
       "    </tr>\n",
       "  </tbody>\n",
       "</table>\n",
       "<p>5 rows × 93 columns</p>\n",
       "</div>"
      ],
      "text/plain": [
       "  status  tempF  neighborhood_Battery Park  neighborhood_Bedford Stuyvesant  \\\n",
       "0   High   62.6                          0                                0   \n",
       "1   High   62.6                          0                                0   \n",
       "2   High   69.8                          0                                0   \n",
       "3   High   62.6                          0                                0   \n",
       "4   High   53.6                          1                                0   \n",
       "\n",
       "   neighborhood_Boerum Hill  neighborhood_Brooklyn Heights  \\\n",
       "0                         0                              0   \n",
       "1                         0                              0   \n",
       "2                         0                              0   \n",
       "3                         0                              0   \n",
       "4                         0                              0   \n",
       "\n",
       "   neighborhood_Bushwick  neighborhood_Carnegie Hill  \\\n",
       "0                      0                           0   \n",
       "1                      0                           0   \n",
       "2                      0                           0   \n",
       "3                      0                           1   \n",
       "4                      0                           0   \n",
       "\n",
       "   neighborhood_Carroll Gardens  neighborhood_Central Park  ...  hour_18  \\\n",
       "0                             0                          0  ...        0   \n",
       "1                             0                          0  ...        0   \n",
       "2                             0                          0  ...        0   \n",
       "3                             0                          0  ...        0   \n",
       "4                             0                          0  ...        0   \n",
       "\n",
       "   hour_19  hour_20  hour_21  hour_22  hour_23  stat_size_Large  \\\n",
       "0        0        0        0        0        0                0   \n",
       "1        0        0        0        0        0                1   \n",
       "2        0        0        1        0        0                1   \n",
       "3        0        0        0        0        0                1   \n",
       "4        0        0        0        0        0                1   \n",
       "\n",
       "   stat_size_Medium  stat_size_Small  ct_revised  \n",
       "0                 0                0          29  \n",
       "1                 0                0          16  \n",
       "2                 0                0          22  \n",
       "3                 0                0          30  \n",
       "4                 0                0          30  \n",
       "\n",
       "[5 rows x 93 columns]"
      ]
     },
     "execution_count": 2,
     "metadata": {},
     "output_type": "execute_result"
    }
   ],
   "source": [
    "april_rides_downsampled = pd.read_csv('april_rides_downsampled.txt', delimiter=',')\n",
    "april_rides_downsampled = april_rides_downsampled.drop('Unnamed: 0', axis=1)\n",
    "april_rides_downsampled.head()"
   ]
  },
  {
   "cell_type": "markdown",
   "metadata": {},
   "source": [
    "## Modeling"
   ]
  },
  {
   "cell_type": "code",
   "execution_count": 3,
   "metadata": {},
   "outputs": [
    {
     "data": {
      "text/plain": [
       "Low         400000\n",
       "Moderate    400000\n",
       "High        400000\n",
       "Name: status, dtype: int64"
      ]
     },
     "execution_count": 3,
     "metadata": {},
     "output_type": "execute_result"
    }
   ],
   "source": [
    "april_rides_downsampled.status.value_counts()"
   ]
  },
  {
   "cell_type": "markdown",
   "metadata": {},
   "source": [
    "XGB needs to have the classes labeled as integer values."
   ]
  },
  {
   "cell_type": "code",
   "execution_count": 4,
   "metadata": {},
   "outputs": [],
   "source": [
    "april_rides_downsampled['status'] = [2 if i == 'High' else 1 if i == 'Moderate' else 0 for i in april_rides_downsampled.status]"
   ]
  },
  {
   "cell_type": "code",
   "execution_count": 5,
   "metadata": {},
   "outputs": [],
   "source": [
    "y = april_rides_downsampled.status\n",
    "X = april_rides_downsampled.drop('status', axis=1)"
   ]
  },
  {
   "cell_type": "markdown",
   "metadata": {},
   "source": [
    "Similar to the forest models, I split the training data into 4 sets to make it easier for the models to digest the data."
   ]
  },
  {
   "cell_type": "code",
   "execution_count": 6,
   "metadata": {},
   "outputs": [],
   "source": [
    "X_train, X_test, y_train, y_test = train_test_split(X, y, test_size=0.2, random_state=123)\n",
    "\n",
    "X_train_1, X_train_2, y_train_1, y_train_2 = train_test_split(X_train, \n",
    "                                                              y_train, \n",
    "                                                              test_size=0.5,\n",
    "                                                              random_state=123)\n",
    "\n",
    "X_train_1_1, X_train_1_2, y_train_1_1, y_train_1_2 = train_test_split(X_train_1, \n",
    "                                                                      y_train_1, \n",
    "                                                                      test_size=0.5,\n",
    "                                                                      random_state=123)\n",
    "\n",
    "X_train_2_1, X_train_2_2, y_train_2_1, y_train_2_2 = train_test_split(X_train_2, \n",
    "                                                                      y_train_2, \n",
    "                                                                      test_size=0.5,\n",
    "                                                                      random_state=123)"
   ]
  },
  {
   "cell_type": "code",
   "execution_count": 7,
   "metadata": {},
   "outputs": [],
   "source": [
    "def plot_confusion_matrix(cm, classes, normalize=False, \n",
    "                          title='Confusion matrix', cmap=plt.cm.Blues):\n",
    "    \n",
    "    # Check if normalize is set to True\n",
    "    # If so, normalize the raw confusion matrix before visualizing\n",
    "    if normalize:\n",
    "        cm = cm.astype('float') / cm.sum(axis=1)[:, np.newaxis]\n",
    "        print(\"Normalized confusion matrix\")\n",
    "    else:\n",
    "        print('Confusion matrix, without normalization')\n",
    "\n",
    "    print(cm)\n",
    "    \n",
    "    #This generates a 2D display\n",
    "    plt.imshow(cm, cmap=cmap)\n",
    "    \n",
    "    # Add title and axis labels \n",
    "    plt.title(title) \n",
    "    plt.ylabel('True label') \n",
    "    plt.xlabel('Predicted label')\n",
    "    \n",
    "    # Add appropriate axis scales\n",
    "    tick_marks = np.arange(len(classes))\n",
    "    plt.xticks(tick_marks, classes, rotation=45)\n",
    "    plt.yticks(tick_marks, classes)\n",
    "    \n",
    "    # Text formatting\n",
    "    fmt = '.2f' if normalize else 'd'\n",
    "    # Add labels to each cell\n",
    "    thresh = cm.max() / 2.\n",
    "    # Here I iterate through the confusion matrix and append labels to our visualization \n",
    "    for i, j in itertools.product(range(cm.shape[0]), range(cm.shape[1])):\n",
    "        plt.text(j, i, format(cm[i, j], fmt),\n",
    "                 horizontalalignment='center',\n",
    "                 color='white' if cm[i, j] > thresh else 'black')\n",
    "    \n",
    "    # Add a legend\n",
    "    plt.colorbar()\n",
    "    plt.show() "
   ]
  },
  {
   "cell_type": "markdown",
   "metadata": {},
   "source": [
    "Below I begin with a baseline model testing the full dataset."
   ]
  },
  {
   "cell_type": "code",
   "execution_count": 8,
   "metadata": {},
   "outputs": [
    {
     "name": "stdout",
     "output_type": "stream",
     "text": [
      "\n",
      "Baseline Training Accuracy: 66.64%\n",
      "Baseline Test Accuracy: 66.69%\n",
      "\n",
      "Normalized confusion matrix\n",
      "[[0.6762409  0.27089435 0.05286476]\n",
      " [0.20816922 0.52067857 0.27115222]\n",
      " [0.00580944 0.1897834  0.80440716]]\n"
     ]
    },
    {
     "data": {
      "image/png": "[encoded data removed]",
      "text/plain": [
       "<Figure size 432x288 with 2 Axes>"
      ]
     },
     "metadata": {
      "needs_background": "light"
     },
     "output_type": "display_data"
    }
   ],
   "source": [
    "xgbclassifier = XGBClassifier(random_state=123)\n",
    "xgbclassifier.fit(X_train, y_train)\n",
    "\n",
    "#This is the accuracy score of the baseline training model\n",
    "training_accuracy = xgbclassifier.score(X_train, y_train)\n",
    "\n",
    "#This is the accuracy score of the baseline testing model\n",
    "test_accuracy = xgbclassifier.score(X_test, y_test)\n",
    "\n",
    "print(\"\")\n",
    "print('Baseline Training Accuracy: {:.4}%'.format(training_accuracy * 100))\n",
    "print('Baseline Test Accuracy: {:.4}%'.format(test_accuracy * 100))\n",
    "print(\"\")\n",
    "\n",
    "#plot a confusion matrix for the XGBoost model\n",
    "y_hat_test = xgbclassifier.predict(X_test)\n",
    "class_names = set(y)\n",
    "cnf_mat_xgb = confusion_matrix(y_test, y_hat_test)\n",
    "plot_confusion_matrix(cnf_mat_xgb, classes=class_names, normalize=True)"
   ]
  },
  {
   "cell_type": "markdown",
   "metadata": {},
   "source": [
    "To tune the hyperparameters I have the options to train general, booster, and learning task parameters.\n",
    "\n",
    "The general parameters define the overall functionality of the model - the type of model, silent (which determines if messages will be displayed), and nthread, which determines parallel processing. I elect not to tweak any of these from their default (tree-based, 0 - keep messages, and max # of threads).\n",
    "\n",
    "For the booster parameters:\n",
    "I initialize the model as a softmax classifier for multiclass problems and specify the number of classes to 3 - High, Moderate, and Low. \n",
    "\n",
    "I then begin by tweaking the learning rate. The learning rate selected by the model was 0.4, which is rather high. It suggests that additional estimators could likely be helpful in reducing the learning rate.\n",
    "\n",
    "Max depth was then proposed. It is not surprising that the deeper tree is selected given what was seen in the RF model.\n",
    "\n",
    "The subsample denotes the fraction of observations to be randomly sampled for each tree. Typically lower values will lead to underfitting."
   ]
  },
  {
   "cell_type": "code",
   "execution_count": 9,
   "metadata": {
    "scrolled": false
   },
   "outputs": [
    {
     "name": "stdout",
     "output_type": "stream",
     "text": [
      "GridSearchCV(cv=2, error_score=nan,\n",
      "             estimator=Pipeline(memory=None,\n",
      "                                steps=[('clf',\n",
      "                                        XGBClassifier(base_score=0.5,\n",
      "                                                      booster='gbtree',\n",
      "                                                      colsample_bylevel=1,\n",
      "                                                      colsample_bytree=1,\n",
      "                                                      gamma=0,\n",
      "                                                      learning_rate=0.1,\n",
      "                                                      max_delta_step=0,\n",
      "                                                      max_depth=3,\n",
      "                                                      min_child_weight=1,\n",
      "                                                      missing=None,\n",
      "                                                      n_estimators=100,\n",
      "                                                      n_jobs=1, nthread=None,\n",
      "                                                      num_class=3,\n",
      "                                                      objective='multi:softmax',\n",
      "                                                      random_state=123,\n",
      "                                                      reg_a...reg_lambda=1,\n",
      "                                                      scale_pos_weight=1,\n",
      "                                                      seed=None, silent=True,\n",
      "                                                      subsample=1,\n",
      "                                                      tree_method='hist'))],\n",
      "                                verbose=False),\n",
      "             iid='deprecated', n_jobs=None,\n",
      "             param_grid={'clf__learning_rate': [0.25, 0.4],\n",
      "                         'clf__max_depth': [25, 50, 70],\n",
      "                         'clf__n_estimators': [200, 300],\n",
      "                         'clf__subsample': [0.4, 0.5]},\n",
      "             pre_dispatch='2*n_jobs', refit=True, return_train_score=True,\n",
      "             scoring='accuracy', verbose=1)\n",
      "Fitting 2 folds for each of 24 candidates, totalling 48 fits\n"
     ]
    },
    {
     "name": "stderr",
     "output_type": "stream",
     "text": [
      "[Parallel(n_jobs=1)]: Using backend SequentialBackend with 1 concurrent workers.\n",
      "[Parallel(n_jobs=1)]: Done  48 out of  48 | elapsed: 432.4min finished\n"
     ]
    },
    {
     "name": "stdout",
     "output_type": "stream",
     "text": [
      "\n",
      "Best params:\n",
      " {'clf__learning_rate': 0.25, 'clf__max_depth': 25, 'clf__n_estimators': 200, 'clf__subsample': 0.5}\n"
     ]
    }
   ],
   "source": [
    "pipe_xgb = Pipeline([('clf', XGBClassifier(objective='multi:softmax', \n",
    "                                           num_class=3, tree_method='hist', \n",
    "                                           random_state=123))])\n",
    "\n",
    "xgb_grid = {'clf__learning_rate': [0.25, 0.4],\n",
    "            'clf__max_depth': [25, 50, 70],\n",
    "            'clf__subsample': [0.4, 0.5],\n",
    "            'clf__n_estimators': [200, 300]}\n",
    "\n",
    "gs_xgb = GridSearchCV(estimator=pipe_xgb, cv=2,\n",
    "                      param_grid=xgb_grid, \n",
    "                      scoring='accuracy', \n",
    "                      verbose=1, refit=True, \n",
    "                      return_train_score=True)\n",
    "\n",
    "print(gs_xgb)\n",
    "gs_xgb.fit(X_train_1_1, y_train_1_1)\n",
    "print('\\nBest params:\\n', gs_xgb.best_params_)"
   ]
  },
  {
   "cell_type": "markdown",
   "metadata": {},
   "source": [
    "Here I build out the DMatrix of the 4 pairs of training X & y."
   ]
  },
  {
   "cell_type": "code",
   "execution_count": 10,
   "metadata": {},
   "outputs": [],
   "source": [
    "xgb_train_1 = xgb.DMatrix(X_train_1_1, label=y_train_1_1)\n",
    "xgb_train_2 = xgb.DMatrix(X_train_1_2, label=y_train_1_2)\n",
    "xgb_train_3 = xgb.DMatrix(X_train_2_1, label=y_train_2_1)\n",
    "xgb_train_4 = xgb.DMatrix(X_train_2_2, label=y_train_2_2)\n",
    "xgb_test = xgb.DMatrix(X_test, label=y_test)"
   ]
  },
  {
   "cell_type": "code",
   "execution_count": 11,
   "metadata": {},
   "outputs": [],
   "source": [
    "#I set the parameters specified above.\n",
    "params = {'objective': 'multi:softmax', \n",
    "          'num_class': 3, \n",
    "          'tree_method': 'hist', \n",
    "          'learning_rate': 0.25, \n",
    "          'max_depth': 25, \n",
    "          'n_estimators': 200, \n",
    "          'subsample': 0.5, \n",
    "          'random_state': 123}"
   ]
  },
  {
   "cell_type": "code",
   "execution_count": 12,
   "metadata": {},
   "outputs": [],
   "source": [
    "#Here I train the first model and save it.\n",
    "model_1 = xgb.train(params, xgb_train_1)\n",
    "model_1.save_model('model_1.model')"
   ]
  },
  {
   "cell_type": "code",
   "execution_count": 13,
   "metadata": {},
   "outputs": [
    {
     "name": "stdout",
     "output_type": "stream",
     "text": [
      "0.2776625\n",
      "0.2794375\n",
      "0.24776666666666666\n"
     ]
    }
   ],
   "source": [
    "#Here I train two versions of the model, one which is a new instance,\n",
    "#and a second which references the first model. I then print the mse of the\n",
    "#models' predictions of the test data to determine which had the best fit.\n",
    "model_2_v1 = xgb.train(params, xgb_train_2)\n",
    "model_2_v2 = xgb.train(params, xgb_train_2, xgb_model='model_1.model')\n",
    "print(mse(model_1.predict(xgb_test), y_test))\n",
    "print(mse(model_2_v1.predict(xgb_test), y_test))\n",
    "print(mse(model_2_v2.predict(xgb_test), y_test))"
   ]
  },
  {
   "cell_type": "code",
   "execution_count": 14,
   "metadata": {},
   "outputs": [
    {
     "name": "stdout",
     "output_type": "stream",
     "text": [
      "0.2781875\n",
      "0.230675\n"
     ]
    }
   ],
   "source": [
    "#Because the model which referenced the first had the best fit, I save that\n",
    "#model and then run the process again and then a third time.\n",
    "model_2_v2.save_model('model_2_v2.model')\n",
    "\n",
    "# ================= train two versions of the model =====================#\n",
    "model_3_v1 = xgb.train(params, xgb_train_3)\n",
    "model_3_v2 = xgb.train(params, xgb_train_3, xgb_model='model_2_v2.model')\n",
    "print(mse(model_3_v1.predict(xgb_test), y_test))\n",
    "print(mse(model_3_v2.predict(xgb_test), y_test))"
   ]
  },
  {
   "cell_type": "code",
   "execution_count": 15,
   "metadata": {},
   "outputs": [
    {
     "name": "stdout",
     "output_type": "stream",
     "text": [
      "0.27915416666666665\n",
      "0.21863333333333335\n"
     ]
    }
   ],
   "source": [
    "model_3_v2.save_model('model_3_v2.model')\n",
    "\n",
    "# ================= train two versions of the model =====================#\n",
    "model_4_v1 = xgb.train(params, xgb_train_4)\n",
    "model_4_v2 = xgb.train(params, xgb_train_4, xgb_model='model_3_v2.model')\n",
    "print(mse(model_4_v1.predict(xgb_test), y_test))\n",
    "print(mse(model_4_v2.predict(xgb_test), y_test))"
   ]
  },
  {
   "cell_type": "code",
   "execution_count": 16,
   "metadata": {},
   "outputs": [
    {
     "data": {
      "text/plain": [
       "XGBClassifier(base_score=0.5, booster='gbtree', colsample_bylevel=1,\n",
       "              colsample_bytree=1, gamma=0, learning_rate=0.25, max_delta_step=0,\n",
       "              max_depth=25, min_child_weight=1, missing=None, n_estimators=200,\n",
       "              n_jobs=1, nthread=None, num_class=3, objective='multi:softprob',\n",
       "              random_state=123, reg_alpha=0, reg_lambda=1, scale_pos_weight=1,\n",
       "              seed=None, silent=True, subsample=0.5, tree_method='hist')"
      ]
     },
     "execution_count": 16,
     "metadata": {},
     "output_type": "execute_result"
    }
   ],
   "source": [
    "#I will now run a full classifier on the data using the parameters specified \n",
    "#in the model\n",
    "xgbclassifier = XGBClassifier(objective='multi:softmax', num_class=3, \n",
    "                              tree_method= 'hist', learning_rate=0.25, max_depth=25, \n",
    "                              n_estimators= 200, subsample= 0.5, random_state=123)\n",
    "xgbclassifier.fit(X_train, y_train)"
   ]
  },
  {
   "cell_type": "code",
   "execution_count": 17,
   "metadata": {},
   "outputs": [
    {
     "name": "stdout",
     "output_type": "stream",
     "text": [
      "\n",
      "Baseline Training Accuracy: 90.16%\n",
      "Baseline Test Accuracy: 86.66%\n",
      "\n",
      "Normalized confusion matrix\n",
      "[[0.88348227 0.10320142 0.01331631]\n",
      " [0.12149125 0.79139453 0.08711422]\n",
      " [0.00872668 0.06615751 0.92511581]]\n"
     ]
    },
    {
     "data": {
      "image/png": "[encoded data removed]",
      "text/plain": [
       "<Figure size 432x288 with 2 Axes>"
      ]
     },
     "metadata": {
      "needs_background": "light"
     },
     "output_type": "display_data"
    }
   ],
   "source": [
    "#This is the accuracy score of the baseline training model\n",
    "training_accuracy = xgbclassifier.score(X_train, y_train)\n",
    "\n",
    "#This is the accuracy score of the baseline testing model\n",
    "test_accuracy = xgbclassifier.score(X_test, y_test)\n",
    "\n",
    "print(\"\")\n",
    "print('Baseline Training Accuracy: {:.4}%'.format(training_accuracy * 100))\n",
    "print('Baseline Test Accuracy: {:.4}%'.format(test_accuracy * 100))\n",
    "print(\"\")\n",
    "\n",
    "#plot a confusion matrix for the XGBoost model\n",
    "y_hat_test = xgbclassifier.predict(X_test)\n",
    "class_names = set(y)\n",
    "cnf_mat_xgb = confusion_matrix(y_test, y_hat_test)\n",
    "plot_confusion_matrix(cnf_mat_xgb, classes=class_names, normalize=True)"
   ]
  },
  {
   "cell_type": "code",
   "execution_count": 32,
   "metadata": {},
   "outputs": [
    {
     "data": {
      "text/plain": [
       "['/Users/zazue/PycharmProjects/TrialforCapstone/venv2/xgb_mod_1.joblib']"
      ]
     },
     "execution_count": 32,
     "metadata": {},
     "output_type": "execute_result"
    }
   ],
   "source": [
    "import joblib\n",
    "from joblib import dump\n",
    "\n",
    "xgb_mod_1 = xgbclassifier\n",
    "\n",
    "dump(xgb_mod_1, '/Users/zazue/PycharmProjects/TrialforCapstone/venv2/xgb_mod_1.joblib')"
   ]
  },
  {
   "cell_type": "markdown",
   "metadata": {},
   "source": [
    "### Takeaways\n",
    "\n",
    "Overall performance is slightly better than the RF model, but we see worse performance in the Low (0) class, which is what I deemed to be more important for the consumer.\n",
    "\n",
    "Significant performance increase after tweaking the parameters."
   ]
  },
  {
   "cell_type": "code",
   "execution_count": null,
   "metadata": {},
   "outputs": [],
   "source": []
  }
 ],
 "metadata": {
  "kernelspec": {
   "display_name": "Python 3",
   "language": "python",
   "name": "python3"
  },
  "language_info": {
   "codemirror_mode": {
    "name": "ipython",
    "version": 3
   },
   "file_extension": ".py",
   "mimetype": "text/x-python",
   "name": "python",
   "nbconvert_exporter": "python",
   "pygments_lexer": "ipython3",
   "version": "3.6.6"
  },
  "toc": {
   "base_numbering": 1,
   "nav_menu": {},
   "number_sections": true,
   "sideBar": true,
   "skip_h1_title": false,
   "title_cell": "Table of Contents",
   "title_sidebar": "Contents",
   "toc_cell": false,
   "toc_position": {},
   "toc_section_display": true,
   "toc_window_display": false
  },
  "varInspector": {
   "cols": {
    "lenName": 16,
    "lenType": 16,
    "lenVar": 40
   },
   "kernels_config": {
    "python": {
     "delete_cmd_postfix": "",
     "delete_cmd_prefix": "del ",
     "library": "var_list.py",
     "varRefreshCmd": "print(var_dic_list())"
    },
    "r": {
     "delete_cmd_postfix": ") ",
     "delete_cmd_prefix": "rm(",
     "library": "var_list.r",
     "varRefreshCmd": "cat(var_dic_list()) "
    }
   },
   "types_to_exclude": [
    "module",
    "function",
    "builtin_function_or_method",
    "instance",
    "_Feature"
   ],
   "window_display": false
  }
 },
 "nbformat": 4,
 "nbformat_minor": 4
}

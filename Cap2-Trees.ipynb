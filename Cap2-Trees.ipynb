{
 "cells": [
  {
   "cell_type": "markdown",
   "metadata": {},
   "source": [
    "# Flatiron School 071519 DS Parttime Online Capstone Project - Citibike Station availability forecasting - Decision Trees and Random Forest\n",
    "\n",
    "The first ML Classification methods I will utilize are the decision tree and random forest models. For each I will begin with a baseline model and then attempt to improve performance by tuning their hyper parameters.\n",
    "\n",
    "\n",
    "## Libraries"
   ]
  },
  {
   "cell_type": "code",
   "execution_count": 1,
   "metadata": {},
   "outputs": [],
   "source": [
    "import pandas as pd\n",
    "import numpy as np\n",
    "import matplotlib.pyplot as plt\n",
    "%matplotlib inline\n",
    "\n",
    "import seaborn as sns\n",
    "import itertools\n",
    "\n",
    "from sklearn import tree\n",
    "from sklearn.tree import DecisionTreeClassifier\n",
    "from sklearn.ensemble import RandomForestClassifier\n",
    "from sklearn.metrics import accuracy_score, confusion_matrix\n",
    "from sklearn.model_selection import train_test_split, GridSearchCV, cross_val_score\n",
    "from sklearn.pipeline import Pipeline, make_pipeline\n",
    "\n",
    "import joblib\n",
    "from joblib import dump\n",
    "\n",
    "import warnings\n",
    "warnings.filterwarnings(\"ignore\")"
   ]
  },
  {
   "cell_type": "markdown",
   "metadata": {},
   "source": [
    "## Data\n",
    "\n",
    "I'll start by bringing in the downsampled dataset."
   ]
  },
  {
   "cell_type": "code",
   "execution_count": 2,
   "metadata": {},
   "outputs": [
    {
     "data": {
      "text/html": [
       "<div>\n",
       "<style scoped>\n",
       "    .dataframe tbody tr th:only-of-type {\n",
       "        vertical-align: middle;\n",
       "    }\n",
       "\n",
       "    .dataframe tbody tr th {\n",
       "        vertical-align: top;\n",
       "    }\n",
       "\n",
       "    .dataframe thead th {\n",
       "        text-align: right;\n",
       "    }\n",
       "</style>\n",
       "<table border=\"1\" class=\"dataframe\">\n",
       "  <thead>\n",
       "    <tr style=\"text-align: right;\">\n",
       "      <th></th>\n",
       "      <th>status</th>\n",
       "      <th>tempF</th>\n",
       "      <th>neighborhood_Battery Park</th>\n",
       "      <th>neighborhood_Bedford Stuyvesant</th>\n",
       "      <th>neighborhood_Boerum Hill</th>\n",
       "      <th>neighborhood_Brooklyn Heights</th>\n",
       "      <th>neighborhood_Bushwick</th>\n",
       "      <th>neighborhood_Carnegie Hill</th>\n",
       "      <th>neighborhood_Carroll Gardens</th>\n",
       "      <th>neighborhood_Central Park</th>\n",
       "      <th>...</th>\n",
       "      <th>hour_18</th>\n",
       "      <th>hour_19</th>\n",
       "      <th>hour_20</th>\n",
       "      <th>hour_21</th>\n",
       "      <th>hour_22</th>\n",
       "      <th>hour_23</th>\n",
       "      <th>stat_size_Large</th>\n",
       "      <th>stat_size_Medium</th>\n",
       "      <th>stat_size_Small</th>\n",
       "      <th>ct_revised</th>\n",
       "    </tr>\n",
       "  </thead>\n",
       "  <tbody>\n",
       "    <tr>\n",
       "      <td>0</td>\n",
       "      <td>High</td>\n",
       "      <td>62.6</td>\n",
       "      <td>0</td>\n",
       "      <td>0</td>\n",
       "      <td>0</td>\n",
       "      <td>0</td>\n",
       "      <td>0</td>\n",
       "      <td>0</td>\n",
       "      <td>0</td>\n",
       "      <td>0</td>\n",
       "      <td>...</td>\n",
       "      <td>0</td>\n",
       "      <td>0</td>\n",
       "      <td>0</td>\n",
       "      <td>0</td>\n",
       "      <td>0</td>\n",
       "      <td>0</td>\n",
       "      <td>0</td>\n",
       "      <td>0</td>\n",
       "      <td>0</td>\n",
       "      <td>29</td>\n",
       "    </tr>\n",
       "    <tr>\n",
       "      <td>1</td>\n",
       "      <td>High</td>\n",
       "      <td>62.6</td>\n",
       "      <td>0</td>\n",
       "      <td>0</td>\n",
       "      <td>0</td>\n",
       "      <td>0</td>\n",
       "      <td>0</td>\n",
       "      <td>0</td>\n",
       "      <td>0</td>\n",
       "      <td>0</td>\n",
       "      <td>...</td>\n",
       "      <td>0</td>\n",
       "      <td>0</td>\n",
       "      <td>0</td>\n",
       "      <td>0</td>\n",
       "      <td>0</td>\n",
       "      <td>0</td>\n",
       "      <td>1</td>\n",
       "      <td>0</td>\n",
       "      <td>0</td>\n",
       "      <td>16</td>\n",
       "    </tr>\n",
       "    <tr>\n",
       "      <td>2</td>\n",
       "      <td>High</td>\n",
       "      <td>69.8</td>\n",
       "      <td>0</td>\n",
       "      <td>0</td>\n",
       "      <td>0</td>\n",
       "      <td>0</td>\n",
       "      <td>0</td>\n",
       "      <td>0</td>\n",
       "      <td>0</td>\n",
       "      <td>0</td>\n",
       "      <td>...</td>\n",
       "      <td>0</td>\n",
       "      <td>0</td>\n",
       "      <td>0</td>\n",
       "      <td>1</td>\n",
       "      <td>0</td>\n",
       "      <td>0</td>\n",
       "      <td>1</td>\n",
       "      <td>0</td>\n",
       "      <td>0</td>\n",
       "      <td>22</td>\n",
       "    </tr>\n",
       "    <tr>\n",
       "      <td>3</td>\n",
       "      <td>High</td>\n",
       "      <td>62.6</td>\n",
       "      <td>0</td>\n",
       "      <td>0</td>\n",
       "      <td>0</td>\n",
       "      <td>0</td>\n",
       "      <td>0</td>\n",
       "      <td>1</td>\n",
       "      <td>0</td>\n",
       "      <td>0</td>\n",
       "      <td>...</td>\n",
       "      <td>0</td>\n",
       "      <td>0</td>\n",
       "      <td>0</td>\n",
       "      <td>0</td>\n",
       "      <td>0</td>\n",
       "      <td>0</td>\n",
       "      <td>1</td>\n",
       "      <td>0</td>\n",
       "      <td>0</td>\n",
       "      <td>30</td>\n",
       "    </tr>\n",
       "    <tr>\n",
       "      <td>4</td>\n",
       "      <td>High</td>\n",
       "      <td>53.6</td>\n",
       "      <td>1</td>\n",
       "      <td>0</td>\n",
       "      <td>0</td>\n",
       "      <td>0</td>\n",
       "      <td>0</td>\n",
       "      <td>0</td>\n",
       "      <td>0</td>\n",
       "      <td>0</td>\n",
       "      <td>...</td>\n",
       "      <td>0</td>\n",
       "      <td>0</td>\n",
       "      <td>0</td>\n",
       "      <td>0</td>\n",
       "      <td>0</td>\n",
       "      <td>0</td>\n",
       "      <td>1</td>\n",
       "      <td>0</td>\n",
       "      <td>0</td>\n",
       "      <td>30</td>\n",
       "    </tr>\n",
       "  </tbody>\n",
       "</table>\n",
       "<p>5 rows × 93 columns</p>\n",
       "</div>"
      ],
      "text/plain": [
       "  status  tempF  neighborhood_Battery Park  neighborhood_Bedford Stuyvesant  \\\n",
       "0   High   62.6                          0                                0   \n",
       "1   High   62.6                          0                                0   \n",
       "2   High   69.8                          0                                0   \n",
       "3   High   62.6                          0                                0   \n",
       "4   High   53.6                          1                                0   \n",
       "\n",
       "   neighborhood_Boerum Hill  neighborhood_Brooklyn Heights  \\\n",
       "0                         0                              0   \n",
       "1                         0                              0   \n",
       "2                         0                              0   \n",
       "3                         0                              0   \n",
       "4                         0                              0   \n",
       "\n",
       "   neighborhood_Bushwick  neighborhood_Carnegie Hill  \\\n",
       "0                      0                           0   \n",
       "1                      0                           0   \n",
       "2                      0                           0   \n",
       "3                      0                           1   \n",
       "4                      0                           0   \n",
       "\n",
       "   neighborhood_Carroll Gardens  neighborhood_Central Park  ...  hour_18  \\\n",
       "0                             0                          0  ...        0   \n",
       "1                             0                          0  ...        0   \n",
       "2                             0                          0  ...        0   \n",
       "3                             0                          0  ...        0   \n",
       "4                             0                          0  ...        0   \n",
       "\n",
       "   hour_19  hour_20  hour_21  hour_22  hour_23  stat_size_Large  \\\n",
       "0        0        0        0        0        0                0   \n",
       "1        0        0        0        0        0                1   \n",
       "2        0        0        1        0        0                1   \n",
       "3        0        0        0        0        0                1   \n",
       "4        0        0        0        0        0                1   \n",
       "\n",
       "   stat_size_Medium  stat_size_Small  ct_revised  \n",
       "0                 0                0          29  \n",
       "1                 0                0          16  \n",
       "2                 0                0          22  \n",
       "3                 0                0          30  \n",
       "4                 0                0          30  \n",
       "\n",
       "[5 rows x 93 columns]"
      ]
     },
     "execution_count": 2,
     "metadata": {},
     "output_type": "execute_result"
    }
   ],
   "source": [
    "april_rides_downsampled = pd.read_csv('april_rides_downsampled.txt', delimiter=',')\n",
    "april_rides_downsampled = april_rides_downsampled.drop('Unnamed: 0', axis=1)\n",
    "april_rides_downsampled.head()"
   ]
  },
  {
   "cell_type": "code",
   "execution_count": 3,
   "metadata": {},
   "outputs": [],
   "source": [
    "y = april_rides_downsampled.status\n",
    "X = april_rides_downsampled.drop('status', axis=1)"
   ]
  },
  {
   "cell_type": "code",
   "execution_count": 4,
   "metadata": {},
   "outputs": [],
   "source": [
    "#\n",
    "#Given the size of the data, I opt to split the training data into four sets\n",
    "#So I essentially have 4 portions of a training set and 1 portion of a test set\n",
    "X_train, X_test, y_train, y_test = train_test_split(X, y, test_size=0.2, random_state=123)\n",
    "\n",
    "X_train_1, X_train_2, y_train_1, y_train_2 = train_test_split(X_train, \n",
    "                                                              y_train, \n",
    "                                                              test_size=0.5,\n",
    "                                                              random_state=123)\n",
    "\n",
    "X_train_1_1, X_train_1_2, y_train_1_1, y_train_1_2 = train_test_split(X_train_1, \n",
    "                                                                      y_train_1, \n",
    "                                                                      test_size=0.5,\n",
    "                                                                      random_state=123)\n",
    "\n",
    "X_train_2_1, X_train_2_2, y_train_2_1, y_train_2_2 = train_test_split(X_train_2, \n",
    "                                                                      y_train_2, \n",
    "                                                                      test_size=0.5,\n",
    "                                                                      random_state=123)"
   ]
  },
  {
   "cell_type": "code",
   "execution_count": 5,
   "metadata": {},
   "outputs": [],
   "source": [
    "#\n",
    "#Here is code for a function which plots a confusion matrix of the given test\n",
    "#data set\n",
    "def plot_confusion_matrix(cm, classes,\n",
    "                          normalize=False,\n",
    "                          title='Confusion matrix',\n",
    "                          cmap=plt.cm.Blues):\n",
    "    \n",
    "    # Check if normalize is set to True\n",
    "    # If so, normalize the raw confusion matrix before visualizing\n",
    "    if normalize:\n",
    "        cm = cm.astype('float') / cm.sum(axis=1)[:, np.newaxis]\n",
    "        print(\"Normalized confusion matrix\")\n",
    "    else:\n",
    "        print('Confusion matrix, without normalization')\n",
    "\n",
    "    print(cm)\n",
    "    \n",
    "    #This generates a 2D display\n",
    "    plt.imshow(cm, cmap=cmap)\n",
    "    \n",
    "    # Add title and axis labels \n",
    "    plt.title(title) \n",
    "    plt.ylabel('True label') \n",
    "    plt.xlabel('Predicted label')\n",
    "    \n",
    "    # Add appropriate axis scales\n",
    "    tick_marks = np.arange(len(classes))\n",
    "    plt.xticks(tick_marks, classes, rotation=45)\n",
    "    plt.yticks(tick_marks, classes)\n",
    "    \n",
    "    # Text formatting\n",
    "    fmt = '.2f' if normalize else 'd'\n",
    "    # Add labels to each cell\n",
    "    thresh = cm.max() / 2.\n",
    "    # Here I iterate through the confusion matrix and append labels to our visualization \n",
    "    for i, j in itertools.product(range(cm.shape[0]), range(cm.shape[1])):\n",
    "        plt.text(j, i, format(cm[i, j], fmt),\n",
    "                 horizontalalignment='center',\n",
    "                 color='white' if cm[i, j] > thresh else 'black')\n",
    "    \n",
    "    # Add a legend\n",
    "    plt.colorbar()\n",
    "    plt.show() "
   ]
  },
  {
   "cell_type": "code",
   "execution_count": 6,
   "metadata": {},
   "outputs": [
    {
     "name": "stdout",
     "output_type": "stream",
     "text": [
      "DecisionTreeClassifier(ccp_alpha=0.0, class_weight=None, criterion='gini',\n",
      "                       max_depth=None, max_features=None, max_leaf_nodes=None,\n",
      "                       min_impurity_decrease=0.0, min_impurity_split=None,\n",
      "                       min_samples_leaf=1, min_samples_split=2,\n",
      "                       min_weight_fraction_leaf=0.0, presort='deprecated',\n",
      "                       random_state=123, splitter='best')\n",
      "\n",
      "Baseline Training Accuracy: 90.37%\n",
      "Baseline Test Accuracy: 86.61%\n",
      "\n",
      "Normalized confusion matrix\n",
      "[[0.93250282 0.0085514  0.05894579]\n",
      " [0.01459288 0.89300643 0.09240069]\n",
      " [0.09338386 0.13329511 0.77332104]]\n"
     ]
    },
    {
     "data": {
      "image/png": "[encoded data removed]",
      "text/plain": [
       "<Figure size 432x288 with 2 Axes>"
      ]
     },
     "metadata": {
      "needs_background": "light"
     },
     "output_type": "display_data"
    }
   ],
   "source": [
    "#Starting with a baseline classifier (parameter optimization will come later)\n",
    "#and only setting the random state of the model.\n",
    "dtclassifier = DecisionTreeClassifier(random_state=123)\n",
    "dtclassifier.fit(X_train, y_train)\n",
    "print(dtclassifier.fit(X_train, y_train))\n",
    "\n",
    "#This is the accuracy score of the baseline training model\n",
    "training_accuracy = dtclassifier.score(X_train, y_train)\n",
    "\n",
    "#This is the accuracy score of the baseline test model\n",
    "test_accuracy = dtclassifier.score(X_test, y_test)\n",
    "\n",
    "print(\"\")\n",
    "print('Baseline Training Accuracy: {:.4}%'.format(training_accuracy * 100))\n",
    "print('Baseline Test Accuracy: {:.4}%'.format(test_accuracy * 100))\n",
    "print(\"\")\n",
    "\n",
    "#print a confusion matrix\n",
    "y_hat_test = dtclassifier.predict(X_test)\n",
    "class_names = set(y)\n",
    "cnf_mat_dt = confusion_matrix(y_test, y_hat_test)\n",
    "plot_confusion_matrix(cnf_mat_dt, classes=class_names, normalize=True)"
   ]
  },
  {
   "cell_type": "code",
   "execution_count": 7,
   "metadata": {},
   "outputs": [
    {
     "data": {
      "text/plain": [
       "75"
      ]
     },
     "execution_count": 7,
     "metadata": {},
     "output_type": "execute_result"
    }
   ],
   "source": [
    "dtclassifier.tree_.max_depth"
   ]
  },
  {
   "cell_type": "code",
   "execution_count": 8,
   "metadata": {},
   "outputs": [
    {
     "data": {
      "text/plain": [
       "3"
      ]
     },
     "execution_count": 8,
     "metadata": {},
     "output_type": "execute_result"
    }
   ],
   "source": [
    "dtclassifier.tree_.max_n_classes"
   ]
  },
  {
   "cell_type": "markdown",
   "metadata": {},
   "source": [
    "I tried to display an image of the tree using the below code, but my machine was not able to produce it. The max depth of this tree is 75. This makes sense, given the number of features present in the final dataset produced by the number of dummy variables (one for each of the many neighborhoods). The number of continuous inputs is few, which limits the ability to tune the model."
   ]
  },
  {
   "cell_type": "code",
   "execution_count": 7,
   "metadata": {},
   "outputs": [],
   "source": [
    "# from sklearn.tree import export_graphviz\n",
    "# from IPython.display import Image\n",
    "# from pydotplus import graph_from_dot_data\n",
    "\n",
    "# dot_data = export_graphviz(dtclassifier, out_file=None, feature_names=X_train.columns,\n",
    "#                           class_names=np.unique(y).astype('str'),\n",
    "#                           filled=True, rounded=True, special_characters=True)\n",
    "\n",
    "# graph = graph_from_dot_data(dot_data)\n",
    "\n",
    "# Image(graph.create_png())"
   ]
  },
  {
   "cell_type": "markdown",
   "metadata": {},
   "source": [
    "### DT Model tuning"
   ]
  },
  {
   "cell_type": "markdown",
   "metadata": {},
   "source": [
    "In the below cell, I call a Pipeline operator on a set of parameters through a grid search with cross validation, which allows a comparison between performance scores across a selection of specified parameters.\n",
    "\n",
    "I begin choosing between the gini and entropy to measure the quality of the split based on the impurity measure. Entropy, is what is used for the information gain approach and splits nodes such that it gives the most information gain. Gini represents the Gini Impurity or the Gini Index which measures the divergences between the probability distributions of the target attributes values and splits nodes such that the split gives the least amount of impurity.\n",
    "\n",
    "Next I approach tuning max_depth, which is the maximum depth of the tree. We know that when I didn't specify depth, the model took the tree down to 75 levels. Again, while this might seem very high, we are dealing with a dataset with 92 columns, most of which are categorical variables. Because I expect accuracy loss to be significant with the reduction of depth, I include 70 as an option to maintain a relatively high depth.\n",
    "\n",
    "Next I look at tuning the minimum number of samples required to be at a leaf node. 1 is the default, but I tried adjusting up to 2. Making sure each leaf has more than one element can help avoid overfitting. Again, given the low number of inputs for the data, this might be something that cannot help be avoided for this model.\n",
    "\n",
    "Finally I look at tuning the min_samples_split, the number of samples required to split an internal node. We know that higher values in this parameter can lead to underfitting, so I opt to stay close to default of 2."
   ]
  },
  {
   "cell_type": "code",
   "execution_count": 13,
   "metadata": {},
   "outputs": [
    {
     "name": "stdout",
     "output_type": "stream",
     "text": [
      "GridSearchCV(cv=3, error_score=nan,\n",
      "             estimator=Pipeline(memory=None,\n",
      "                                steps=[('clf',\n",
      "                                        DecisionTreeClassifier(ccp_alpha=0.0,\n",
      "                                                               class_weight=None,\n",
      "                                                               criterion='gini',\n",
      "                                                               max_depth=None,\n",
      "                                                               max_features=None,\n",
      "                                                               max_leaf_nodes=None,\n",
      "                                                               min_impurity_decrease=0.0,\n",
      "                                                               min_impurity_split=None,\n",
      "                                                               min_samples_leaf=1,\n",
      "                                                               min_samples_split=2,\n",
      "                                                               min_weight_fraction_leaf=0.0,\n",
      "                                                               presort='deprecated',\n",
      "                                                               random_state=123,\n",
      "                                                               splitter='best'))],\n",
      "                                verbose=False),\n",
      "             iid='deprecated', n_jobs=None,\n",
      "             param_grid={'clf__criterion': ['gini', 'entropy'],\n",
      "                         'clf__max_depth': [50, 70],\n",
      "                         'clf__min_samples_leaf': [1, 2],\n",
      "                         'clf__min_samples_split': [2, 3, 4]},\n",
      "             pre_dispatch='2*n_jobs', refit=True, return_train_score=True,\n",
      "             scoring='accuracy', verbose=False)\n",
      "\n",
      "Best parameters:\n",
      " {'clf__criterion': 'gini', 'clf__max_depth': 70, 'clf__min_samples_leaf': 1, 'clf__min_samples_split': 2}\n"
     ]
    }
   ],
   "source": [
    "pipe_dt = Pipeline([('clf', DecisionTreeClassifier(random_state=123))])\n",
    "\n",
    "dt_grid = {'clf__criterion': ['gini', 'entropy'],\n",
    "           'clf__max_depth': [50, 70],\n",
    "           'clf__min_samples_leaf': [1, 2],\n",
    "           'clf__min_samples_split': [2, 3, 4]\n",
    "          }\n",
    "\n",
    "gs_dt = GridSearchCV(estimator=pipe_dt,\n",
    "                     param_grid=dt_grid, \n",
    "                     scoring='accuracy', \n",
    "                     cv=3, verbose=False, refit=True, \n",
    "                     return_train_score=True)\n",
    "\n",
    "print(gs_dt)\n",
    "gs_dt.fit(X_train, y_train)\n",
    "print('\\nBest parameters:\\n', gs_dt.best_params_)"
   ]
  },
  {
   "cell_type": "code",
   "execution_count": 14,
   "metadata": {},
   "outputs": [
    {
     "name": "stdout",
     "output_type": "stream",
     "text": [
      "DecisionTreeClassifier(ccp_alpha=0.0, class_weight=None, criterion='entropy',\n",
      "                       max_depth=70, max_features=None, max_leaf_nodes=None,\n",
      "                       min_impurity_decrease=0.0, min_impurity_split=None,\n",
      "                       min_samples_leaf=1, min_samples_split=2,\n",
      "                       min_weight_fraction_leaf=0.0, presort='deprecated',\n",
      "                       random_state=123, splitter='best')\n",
      "\n",
      "Baseline Training Accuracy: 90.37%\n",
      "Baseline Test Accuracy: 86.61%\n",
      "\n",
      "Normalized confusion matrix\n",
      "[[0.932002   0.00872668 0.05927132]\n",
      " [0.01448024 0.89325674 0.09226302]\n",
      " [0.09385751 0.13279653 0.77334596]]\n"
     ]
    },
    {
     "data": {
      "image/png": "[encoded data removed]",
      "text/plain": [
       "<Figure size 432x288 with 2 Axes>"
      ]
     },
     "metadata": {
      "needs_background": "light"
     },
     "output_type": "display_data"
    }
   ],
   "source": [
    "#\n",
    "#Based on the above gridsearch, I come out with a tree that has very close to \n",
    "#default parameters, and as such, there is not much improvement on the accuracy\n",
    "#over the baseline model.\n",
    "dtclassifier = DecisionTreeClassifier(criterion='gini',  min_samples_leaf=1,\n",
    "                                      max_depth=70, min_samples_split=2, random_state=123)\n",
    "\n",
    "dtclassifier.fit(X_train, y_train)\n",
    "print(dtclassifier.fit(X_train, y_train))\n",
    "\n",
    "#This is the accuracy score of the baseline training model\n",
    "training_accuracy = dtclassifier.score(X_train, y_train)\n",
    "\n",
    "#This is the accuracy score of the baseline test model\n",
    "test_accuracy = dtclassifier.score(X_test, y_test)\n",
    "\n",
    "print(\"\")\n",
    "print('Baseline Training Accuracy: {:.4}%'.format(training_accuracy * 100))\n",
    "print('Baseline Test Accuracy: {:.4}%'.format(test_accuracy * 100))\n",
    "print(\"\")\n",
    "\n",
    "#print a confusion matrix\n",
    "y_hat_test = dtclassifier.predict(X_test)\n",
    "class_names = set(y)\n",
    "cnf_mat_dt = confusion_matrix(y_test, y_hat_test)\n",
    "plot_confusion_matrix(cnf_mat_dt, classes=class_names, normalize=True)"
   ]
  },
  {
   "cell_type": "markdown",
   "metadata": {},
   "source": [
    "### RF"
   ]
  },
  {
   "cell_type": "markdown",
   "metadata": {},
   "source": [
    "Similar to the Decision Tree I will begin with a baseline model. It is important to note that I use one of the split training sets for this model."
   ]
  },
  {
   "cell_type": "code",
   "execution_count": 16,
   "metadata": {},
   "outputs": [
    {
     "name": "stdout",
     "output_type": "stream",
     "text": [
      "RandomForestClassifier(bootstrap=True, ccp_alpha=0.0, class_weight=None,\n",
      "                       criterion='gini', max_depth=None, max_features='auto',\n",
      "                       max_leaf_nodes=None, max_samples=None,\n",
      "                       min_impurity_decrease=0.0, min_impurity_split=None,\n",
      "                       min_samples_leaf=1, min_samples_split=2,\n",
      "                       min_weight_fraction_leaf=0.0, n_estimators=100,\n",
      "                       n_jobs=-1, oob_score=False, random_state=123, verbose=0,\n",
      "                       warm_start=False)\n",
      "\n",
      "Baseline Training Accuracy: 92.66%\n",
      "Baseline Test Accuracy: 81.03%\n",
      "\n",
      "Normalized confusion matrix\n",
      "[[0.88305997 0.01797922 0.09896081]\n",
      " [0.02505569 0.8311056  0.1438387 ]\n",
      " [0.11883632 0.16415715 0.71700653]]\n"
     ]
    },
    {
     "data": {
      "image/png": "[encoded data removed]",
      "text/plain": [
       "<Figure size 432x288 with 2 Axes>"
      ]
     },
     "metadata": {
      "needs_background": "light"
     },
     "output_type": "display_data"
    }
   ],
   "source": [
    "#Generate a baseline RandomForest Classifier. Default estimator is always a \n",
    "#Decision Tree classifier. The number of estimators defaults to 100. The \n",
    "#samples are being drawn with replacement because bootstrap defaults to True.\n",
    "rfclassifier = RandomForestClassifier(random_state=123, n_jobs=-1)\n",
    "print(rfclassifier.fit(X_train_1_1, y_train_1_1))\n",
    "\n",
    "#This is the accuracy score of the baseline training model\n",
    "training_accuracy = rfclassifier.score(X_train_1_1, y_train_1_1)\n",
    "\n",
    "#This is the accuracy score of the baseline testing model\n",
    "test_accuracy = rfclassifier.score(X_test, y_test)\n",
    "\n",
    "print(\"\")\n",
    "print('Baseline Training Accuracy: {:.4}%'.format(training_accuracy * 100))\n",
    "print('Baseline Test Accuracy: {:.4}%'.format(test_accuracy * 100))\n",
    "print(\"\")\n",
    "\n",
    "#plot_feature_importances(rfclassifier, X_train)\n",
    "\n",
    "#plot a confusion matrix for the full forest\n",
    "y_hat_test = rfclassifier.predict(X_test)\n",
    "class_names = set(y)\n",
    "cnf_mat_rf = confusion_matrix(y_test, y_hat_test)\n",
    "plot_confusion_matrix(cnf_mat_rf, classes=class_names, normalize=True)"
   ]
  },
  {
   "cell_type": "markdown",
   "metadata": {},
   "source": [
    "For the forest, the parameters are slightly different.\n",
    "\n",
    "I first need to choose the number of trees I want in the forest, n_estimators. \n",
    "\n",
    "Next I choose the criterion, similar to DT. I also want to decide on the max_features, the number of features considered for splitting a node. Auto represents the default consideration, which is the sqrt(n_features). I also inspect the performance of log2(n_features).\n",
    "\n",
    "Next I take a look at depth and min_samples_split. Here I tried to work with much smaller trees and have larger internal nodes, but the model leaned towards the default values (no max depth, min samples split = 2)."
   ]
  },
  {
   "cell_type": "code",
   "execution_count": 17,
   "metadata": {},
   "outputs": [
    {
     "name": "stdout",
     "output_type": "stream",
     "text": [
      "GridSearchCV(cv=3, error_score=nan,\n",
      "             estimator=Pipeline(memory=None,\n",
      "                                steps=[('clf',\n",
      "                                        RandomForestClassifier(bootstrap=True,\n",
      "                                                               ccp_alpha=0.0,\n",
      "                                                               class_weight=None,\n",
      "                                                               criterion='gini',\n",
      "                                                               max_depth=None,\n",
      "                                                               max_features='auto',\n",
      "                                                               max_leaf_nodes=None,\n",
      "                                                               max_samples=None,\n",
      "                                                               min_impurity_decrease=0.0,\n",
      "                                                               min_impurity_split=None,\n",
      "                                                               min_samples_leaf=1,\n",
      "                                                               min_samples_split=2,\n",
      "                                                               min_weight_fraction_lea...\n",
      "                                                               random_state=123,\n",
      "                                                               verbose=0,\n",
      "                                                               warm_start=False))],\n",
      "                                verbose=False),\n",
      "             iid='deprecated', n_jobs=None,\n",
      "             param_grid={'clf__criterion': ['gini', 'entropy'],\n",
      "                         'clf__max_depth': [None, 7, 15],\n",
      "                         'clf__max_features': ['auto', 'log2'],\n",
      "                         'clf__min_samples_split': [2, 10],\n",
      "                         'clf__n_estimators': [150, 300]},\n",
      "             pre_dispatch='2*n_jobs', refit=True, return_train_score=True,\n",
      "             scoring='accuracy', verbose=False)\n",
      "\n",
      "Best parameters:\n",
      " {'clf__criterion': 'gini', 'clf__max_depth': None, 'clf__max_features': 'auto', 'clf__min_samples_split': 2, 'clf__n_estimators': 300}\n"
     ]
    }
   ],
   "source": [
    "pipe_rf = Pipeline([('clf', RandomForestClassifier(random_state=123))])\n",
    "\n",
    "rf_grid = {'clf__n_estimators': [150, 300],\n",
    "          'clf__criterion': ['gini', 'entropy'],\n",
    "          'clf__max_features': ['auto', 'log2'],\n",
    "          'clf__max_depth': [None, 7, 15],\n",
    "          'clf__min_samples_split': [2, 10]\n",
    "          }\n",
    "\n",
    "gs_rf = GridSearchCV(estimator=pipe_rf,\n",
    "                     param_grid=rf_grid, \n",
    "                     scoring='accuracy', \n",
    "                     cv=3, verbose=False, refit=True, \n",
    "                     return_train_score=True)\n",
    "\n",
    "print(gs_rf)\n",
    "gs_rf.fit(X_train_1_1, y_train_1_1)\n",
    "print('\\nBest parameters:\\n', gs_rf.best_params_)"
   ]
  },
  {
   "cell_type": "code",
   "execution_count": 18,
   "metadata": {},
   "outputs": [
    {
     "name": "stdout",
     "output_type": "stream",
     "text": [
      "RandomForestClassifier(bootstrap=True, ccp_alpha=0.0, class_weight=None,\n",
      "                       criterion='gini', max_depth=None, max_features='auto',\n",
      "                       max_leaf_nodes=None, max_samples=None,\n",
      "                       min_impurity_decrease=0.0, min_impurity_split=None,\n",
      "                       min_samples_leaf=1, min_samples_split=2,\n",
      "                       min_weight_fraction_leaf=0.0, n_estimators=300,\n",
      "                       n_jobs=-1, oob_score=False, random_state=123, verbose=0,\n",
      "                       warm_start=False)\n",
      "\n",
      "Baseline Training Accuracy: 90.37%\n",
      "Baseline Test Accuracy: 86.68%\n",
      "\n",
      "Normalized confusion matrix\n",
      "[[0.92499061 0.00906473 0.06594466]\n",
      " [0.0134665  0.88410803 0.10242547]\n",
      " [0.08655332 0.12189011 0.79155656]]\n"
     ]
    },
    {
     "data": {
      "image/png": "[encoded data removed]",
      "text/plain": [
       "<Figure size 432x288 with 2 Axes>"
      ]
     },
     "metadata": {
      "needs_background": "light"
     },
     "output_type": "display_data"
    }
   ],
   "source": [
    "rfclassifier = RandomForestClassifier(criterion='gini',  max_features='auto', min_samples_split=2, \n",
    "                                      n_estimators=300, n_jobs=-1, random_state=123)\n",
    "\n",
    "rfclassifier.fit(X_train, y_train)\n",
    "print(rfclassifier.fit(X_train, y_train))\n",
    "\n",
    "#This is the accuracy score of the baseline training model\n",
    "training_accuracy = rfclassifier.score(X_train, y_train)\n",
    "\n",
    "#This is the accuracy score of the baseline testing model\n",
    "test_accuracy = rfclassifier.score(X_test, y_test)\n",
    "\n",
    "print(\"\")\n",
    "print('Baseline Training Accuracy: {:.4}%'.format(training_accuracy * 100))\n",
    "print('Baseline Test Accuracy: {:.4}%'.format(test_accuracy * 100))\n",
    "print(\"\")\n",
    "\n",
    "#plot_feature_importances(rfclassifier, X_train)\n",
    "\n",
    "#plot a confusion matrix for the full forest\n",
    "y_hat_test = rfclassifier.predict(X_test)\n",
    "class_names = set(y)\n",
    "cnf_mat_rf = confusion_matrix(y_test, y_hat_test)\n",
    "plot_confusion_matrix(cnf_mat_rf, classes=class_names, normalize=True)"
   ]
  },
  {
   "cell_type": "markdown",
   "metadata": {},
   "source": [
    "We did see improved performance when we provide the model with the adjusted parameters and full data set.\n",
    "\n",
    "I then save this model to be used in the dash application."
   ]
  },
  {
   "cell_type": "code",
   "execution_count": 19,
   "metadata": {},
   "outputs": [
    {
     "data": {
      "text/plain": [
       "['/Users/zazue/PycharmProjects/TrialforCapstone/venv2/rf_mod_1.joblib']"
      ]
     },
     "execution_count": 19,
     "metadata": {},
     "output_type": "execute_result"
    }
   ],
   "source": [
    "import joblib\n",
    "from joblib import dump\n",
    "\n",
    "rf_mod_1 = rfclassifier\n",
    "\n",
    "dump(rf_mod_1, '/Users/zazue/PycharmProjects/TrialforCapstone/venv2/rf_mod_1.joblib')"
   ]
  },
  {
   "cell_type": "markdown",
   "metadata": {},
   "source": [
    "### Takeaways\n",
    "\n",
    "The RF model has an accuracy of 86.68%, which seems tolerable. The worst case scenario would be to have a true Low label that is predicted as Moderate or High because the client would be expecting there to be bikes available at the station (if they were given a Moderate/High) and there wouldn't be. The accuracy on true Low labels is 92% which seems more tolerable.\n",
    "\n",
    "One of the biggest problems I faced was runtime on these models. Next time I would use a randomized search cv to reduce that. I would also take a different approach to inputs to add continuous variables and reduce categorical variables."
   ]
  }
 ],
 "metadata": {
  "kernelspec": {
   "display_name": "Python 3",
   "language": "python",
   "name": "python3"
  },
  "language_info": {
   "codemirror_mode": {
    "name": "ipython",
    "version": 3
   },
   "file_extension": ".py",
   "mimetype": "text/x-python",
   "name": "python",
   "nbconvert_exporter": "python",
   "pygments_lexer": "ipython3",
   "version": "3.6.6"
  },
  "toc": {
   "base_numbering": 1,
   "nav_menu": {},
   "number_sections": true,
   "sideBar": true,
   "skip_h1_title": false,
   "title_cell": "Table of Contents",
   "title_sidebar": "Contents",
   "toc_cell": false,
   "toc_position": {},
   "toc_section_display": true,
   "toc_window_display": false
  },
  "varInspector": {
   "cols": {
    "lenName": 16,
    "lenType": 16,
    "lenVar": 40
   },
   "kernels_config": {
    "python": {
     "delete_cmd_postfix": "",
     "delete_cmd_prefix": "del ",
     "library": "var_list.py",
     "varRefreshCmd": "print(var_dic_list())"
    },
    "r": {
     "delete_cmd_postfix": ") ",
     "delete_cmd_prefix": "rm(",
     "library": "var_list.r",
     "varRefreshCmd": "cat(var_dic_list()) "
    }
   },
   "types_to_exclude": [
    "module",
    "function",
    "builtin_function_or_method",
    "instance",
    "_Feature"
   ],
   "window_display": false
  }
 },
 "nbformat": 4,
 "nbformat_minor": 2
}
